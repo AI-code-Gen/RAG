{
 "cells": [
  {
   "cell_type": "code",
   "execution_count": 7,
   "id": "4e1b121c-5972-474a-9e87-0d554ceeeb71",
   "metadata": {},
   "outputs": [
    {
     "name": "stdout",
     "output_type": "stream",
     "text": [
      "Requirement already satisfied: pinecone-client==2.2.2 in c:\\users\\caotc\\.conda\\envs\\jupyterlab\\lib\\site-packages (2.2.2)\n",
      "Requirement already satisfied: openai==0.28.0 in c:\\users\\caotc\\.conda\\envs\\jupyterlab\\lib\\site-packages (0.28.0)\n",
      "Requirement already satisfied: tiktoken==0.5.1 in c:\\users\\caotc\\.conda\\envs\\jupyterlab\\lib\\site-packages (0.5.1)\n",
      "Requirement already satisfied: langchain==0.0.291 in c:\\users\\caotc\\.conda\\envs\\jupyterlab\\lib\\site-packages (0.0.291)\n",
      "Requirement already satisfied: requests>=2.19.0 in c:\\users\\caotc\\.conda\\envs\\jupyterlab\\lib\\site-packages (from pinecone-client==2.2.2) (2.31.0)\n",
      "Requirement already satisfied: pyyaml>=5.4 in c:\\users\\caotc\\.conda\\envs\\jupyterlab\\lib\\site-packages (from pinecone-client==2.2.2) (6.0.1)\n",
      "Requirement already satisfied: loguru>=0.5.0 in c:\\users\\caotc\\.conda\\envs\\jupyterlab\\lib\\site-packages (from pinecone-client==2.2.2) (0.7.2)\n",
      "Requirement already satisfied: typing-extensions>=3.7.4 in c:\\users\\caotc\\.conda\\envs\\jupyterlab\\lib\\site-packages (from pinecone-client==2.2.2) (4.7.1)\n",
      "Requirement already satisfied: dnspython>=2.0.0 in c:\\users\\caotc\\.conda\\envs\\jupyterlab\\lib\\site-packages (from pinecone-client==2.2.2) (2.4.2)\n",
      "Requirement already satisfied: python-dateutil>=2.5.3 in c:\\users\\caotc\\.conda\\envs\\jupyterlab\\lib\\site-packages (from pinecone-client==2.2.2) (2.8.2)\n",
      "Requirement already satisfied: urllib3>=1.21.1 in c:\\users\\caotc\\.conda\\envs\\jupyterlab\\lib\\site-packages (from pinecone-client==2.2.2) (1.26.18)\n",
      "Requirement already satisfied: tqdm>=4.64.1 in c:\\users\\caotc\\.conda\\envs\\jupyterlab\\lib\\site-packages (from pinecone-client==2.2.2) (4.66.1)\n",
      "Requirement already satisfied: numpy>=1.22.0 in c:\\users\\caotc\\.conda\\envs\\jupyterlab\\lib\\site-packages (from pinecone-client==2.2.2) (1.26.2)\n",
      "Requirement already satisfied: aiohttp in c:\\users\\caotc\\.conda\\envs\\jupyterlab\\lib\\site-packages (from openai==0.28.0) (3.9.0)\n",
      "Requirement already satisfied: regex>=2022.1.18 in c:\\users\\caotc\\.conda\\envs\\jupyterlab\\lib\\site-packages (from tiktoken==0.5.1) (2023.12.25)\n",
      "Requirement already satisfied: SQLAlchemy<3,>=1.4 in c:\\users\\caotc\\.conda\\envs\\jupyterlab\\lib\\site-packages (from langchain==0.0.291) (2.0.23)\n",
      "Requirement already satisfied: dataclasses-json<0.6.0,>=0.5.7 in c:\\users\\caotc\\.conda\\envs\\jupyterlab\\lib\\site-packages (from langchain==0.0.291) (0.5.14)\n",
      "Requirement already satisfied: langsmith<0.1.0,>=0.0.21 in c:\\users\\caotc\\.conda\\envs\\jupyterlab\\lib\\site-packages (from langchain==0.0.291) (0.0.75)\n",
      "Requirement already satisfied: numexpr<3.0.0,>=2.8.4 in c:\\users\\caotc\\.conda\\envs\\jupyterlab\\lib\\site-packages (from langchain==0.0.291) (2.8.8)\n",
      "Requirement already satisfied: pydantic<3,>=1 in c:\\users\\caotc\\.conda\\envs\\jupyterlab\\lib\\site-packages (from langchain==0.0.291) (2.5.3)\n",
      "Requirement already satisfied: tenacity<9.0.0,>=8.1.0 in c:\\users\\caotc\\.conda\\envs\\jupyterlab\\lib\\site-packages (from langchain==0.0.291) (8.2.3)\n",
      "Requirement already satisfied: attrs>=17.3.0 in c:\\users\\caotc\\.conda\\envs\\jupyterlab\\lib\\site-packages (from aiohttp->openai==0.28.0) (23.1.0)\n",
      "Requirement already satisfied: multidict<7.0,>=4.5 in c:\\users\\caotc\\.conda\\envs\\jupyterlab\\lib\\site-packages (from aiohttp->openai==0.28.0) (6.0.4)\n",
      "Requirement already satisfied: yarl<2.0,>=1.0 in c:\\users\\caotc\\.conda\\envs\\jupyterlab\\lib\\site-packages (from aiohttp->openai==0.28.0) (1.9.3)\n",
      "Requirement already satisfied: frozenlist>=1.1.1 in c:\\users\\caotc\\.conda\\envs\\jupyterlab\\lib\\site-packages (from aiohttp->openai==0.28.0) (1.4.0)\n",
      "Requirement already satisfied: aiosignal>=1.1.2 in c:\\users\\caotc\\.conda\\envs\\jupyterlab\\lib\\site-packages (from aiohttp->openai==0.28.0) (1.3.1)\n",
      "Requirement already satisfied: marshmallow<4.0.0,>=3.18.0 in c:\\users\\caotc\\.conda\\envs\\jupyterlab\\lib\\site-packages (from dataclasses-json<0.6.0,>=0.5.7->langchain==0.0.291) (3.20.1)\n",
      "Requirement already satisfied: typing-inspect<1,>=0.4.0 in c:\\users\\caotc\\.conda\\envs\\jupyterlab\\lib\\site-packages (from dataclasses-json<0.6.0,>=0.5.7->langchain==0.0.291) (0.9.0)\n",
      "Requirement already satisfied: colorama>=0.3.4 in c:\\users\\caotc\\.conda\\envs\\jupyterlab\\lib\\site-packages (from loguru>=0.5.0->pinecone-client==2.2.2) (0.4.6)\n",
      "Requirement already satisfied: win32-setctime>=1.0.0 in c:\\users\\caotc\\.conda\\envs\\jupyterlab\\lib\\site-packages (from loguru>=0.5.0->pinecone-client==2.2.2) (1.1.0)\n",
      "Requirement already satisfied: annotated-types>=0.4.0 in c:\\users\\caotc\\.conda\\envs\\jupyterlab\\lib\\site-packages (from pydantic<3,>=1->langchain==0.0.291) (0.6.0)\n",
      "Requirement already satisfied: pydantic-core==2.14.6 in c:\\users\\caotc\\.conda\\envs\\jupyterlab\\lib\\site-packages (from pydantic<3,>=1->langchain==0.0.291) (2.14.6)\n",
      "Requirement already satisfied: six>=1.5 in c:\\users\\caotc\\.conda\\envs\\jupyterlab\\lib\\site-packages (from python-dateutil>=2.5.3->pinecone-client==2.2.2) (1.16.0)\n",
      "Requirement already satisfied: charset-normalizer<4,>=2 in c:\\users\\caotc\\.conda\\envs\\jupyterlab\\lib\\site-packages (from requests>=2.19.0->pinecone-client==2.2.2) (2.0.4)\n",
      "Requirement already satisfied: idna<4,>=2.5 in c:\\users\\caotc\\.conda\\envs\\jupyterlab\\lib\\site-packages (from requests>=2.19.0->pinecone-client==2.2.2) (3.4)\n",
      "Requirement already satisfied: certifi>=2017.4.17 in c:\\users\\caotc\\.conda\\envs\\jupyterlab\\lib\\site-packages (from requests>=2.19.0->pinecone-client==2.2.2) (2023.11.17)\n",
      "Requirement already satisfied: greenlet!=0.4.17 in c:\\users\\caotc\\.conda\\envs\\jupyterlab\\lib\\site-packages (from SQLAlchemy<3,>=1.4->langchain==0.0.291) (3.0.3)\n",
      "Requirement already satisfied: packaging>=17.0 in c:\\users\\caotc\\.conda\\envs\\jupyterlab\\lib\\site-packages (from marshmallow<4.0.0,>=3.18.0->dataclasses-json<0.6.0,>=0.5.7->langchain==0.0.291) (23.1)\n",
      "Requirement already satisfied: mypy-extensions>=0.3.0 in c:\\users\\caotc\\.conda\\envs\\jupyterlab\\lib\\site-packages (from typing-inspect<1,>=0.4.0->dataclasses-json<0.6.0,>=0.5.7->langchain==0.0.291) (1.0.0)\n"
     ]
    }
   ],
   "source": [
    "!pip install pinecone-client==2.2.2 openai==0.28.0 tiktoken==0.5.1 langchain==0.0.291"
   ]
  },
  {
   "cell_type": "code",
   "execution_count": 8,
   "id": "3907b5bf-c107-4236-b144-f4343614e40d",
   "metadata": {},
   "outputs": [
    {
     "name": "stdout",
     "output_type": "stream",
     "text": [
      "Requirement already satisfied: pandas in c:\\users\\caotc\\.conda\\envs\\jupyterlab\\lib\\site-packages (2.1.4)\n",
      "Requirement already satisfied: numpy<2,>=1.23.2 in c:\\users\\caotc\\.conda\\envs\\jupyterlab\\lib\\site-packages (from pandas) (1.26.2)\n",
      "Requirement already satisfied: python-dateutil>=2.8.2 in c:\\users\\caotc\\.conda\\envs\\jupyterlab\\lib\\site-packages (from pandas) (2.8.2)\n",
      "Requirement already satisfied: pytz>=2020.1 in c:\\users\\caotc\\.conda\\envs\\jupyterlab\\lib\\site-packages (from pandas) (2023.3.post1)\n",
      "Requirement already satisfied: tzdata>=2022.1 in c:\\users\\caotc\\.conda\\envs\\jupyterlab\\lib\\site-packages (from pandas) (2023.3)\n",
      "Requirement already satisfied: six>=1.5 in c:\\users\\caotc\\.conda\\envs\\jupyterlab\\lib\\site-packages (from python-dateutil>=2.8.2->pandas) (1.16.0)\n",
      "Note: you may need to restart the kernel to use updated packages.\n"
     ]
    }
   ],
   "source": [
    "pip install pandas"
   ]
  },
  {
   "cell_type": "code",
   "execution_count": 13,
   "id": "f96f08f8-b8fb-4a76-bf7a-b93163df00e1",
   "metadata": {},
   "outputs": [
    {
     "data": {
      "text/html": [
       "<div>\n",
       "<style scoped>\n",
       "    .dataframe tbody tr th:only-of-type {\n",
       "        vertical-align: middle;\n",
       "    }\n",
       "\n",
       "    .dataframe tbody tr th {\n",
       "        vertical-align: top;\n",
       "    }\n",
       "\n",
       "    .dataframe thead th {\n",
       "        text-align: right;\n",
       "    }\n",
       "</style>\n",
       "<table border=\"1\" class=\"dataframe\">\n",
       "  <thead>\n",
       "    <tr style=\"text-align: right;\">\n",
       "      <th></th>\n",
       "      <th>movie_title</th>\n",
       "      <th>movie_description</th>\n",
       "      <th>source</th>\n",
       "      <th>genres</th>\n",
       "    </tr>\n",
       "  </thead>\n",
       "  <tbody>\n",
       "    <tr>\n",
       "      <th>0</th>\n",
       "      <td>The Silence of the Lambs</td>\n",
       "      <td>Jodie Foster stars as Clarice Starling, a top ...</td>\n",
       "      <td>https://www.imdb.com/title/tt0102926</td>\n",
       "      <td>Crime,Drama,Thriller</td>\n",
       "    </tr>\n",
       "    <tr>\n",
       "      <th>1</th>\n",
       "      <td>Terminator 2: Judgment Day</td>\n",
       "      <td>In this sequel set eleven years after \"The Ter...</td>\n",
       "      <td>https://www.imdb.com/title/tt0103064</td>\n",
       "      <td>Action,Sci-Fi</td>\n",
       "    </tr>\n",
       "    <tr>\n",
       "      <th>2</th>\n",
       "      <td>The Lion King</td>\n",
       "      <td>This Disney animated feature follows the adven...</td>\n",
       "      <td>https://www.imdb.com/title/tt0110357</td>\n",
       "      <td>Adventure,Animation,Drama</td>\n",
       "    </tr>\n",
       "    <tr>\n",
       "      <th>3</th>\n",
       "      <td>Pulp Fiction</td>\n",
       "      <td>Vincent Vega (John Travolta) and Jules Winnfie...</td>\n",
       "      <td>https://www.imdb.com/title/tt0110912</td>\n",
       "      <td>Crime,Drama</td>\n",
       "    </tr>\n",
       "    <tr>\n",
       "      <th>4</th>\n",
       "      <td>The Shawshank Redemption</td>\n",
       "      <td>Andy Dufresne (Tim Robbins) is sentenced to tw...</td>\n",
       "      <td>https://www.imdb.com/title/tt0111161</td>\n",
       "      <td>Drama</td>\n",
       "    </tr>\n",
       "  </tbody>\n",
       "</table>\n",
       "</div>"
      ],
      "text/plain": [
       "                  movie_title  \\\n",
       "0    The Silence of the Lambs   \n",
       "1  Terminator 2: Judgment Day   \n",
       "2               The Lion King   \n",
       "3                Pulp Fiction   \n",
       "4    The Shawshank Redemption   \n",
       "\n",
       "                                   movie_description  \\\n",
       "0  Jodie Foster stars as Clarice Starling, a top ...   \n",
       "1  In this sequel set eleven years after \"The Ter...   \n",
       "2  This Disney animated feature follows the adven...   \n",
       "3  Vincent Vega (John Travolta) and Jules Winnfie...   \n",
       "4  Andy Dufresne (Tim Robbins) is sentenced to tw...   \n",
       "\n",
       "                                 source                     genres  \n",
       "0  https://www.imdb.com/title/tt0102926       Crime,Drama,Thriller  \n",
       "1  https://www.imdb.com/title/tt0103064              Action,Sci-Fi  \n",
       "2  https://www.imdb.com/title/tt0110357  Adventure,Animation,Drama  \n",
       "3  https://www.imdb.com/title/tt0110912                Crime,Drama  \n",
       "4  https://www.imdb.com/title/tt0111161                      Drama  "
      ]
     },
     "execution_count": 13,
     "metadata": {},
     "output_type": "execute_result"
    }
   ],
   "source": [
    "import pandas as pd\n",
    "\n",
    "movies = pd.read_csv(\"IMDB.csv\")\n",
    "movies  = movies.rename(columns={\"primaryTitle\": \"movie_title\",\n",
    "                                \"Description\": \"movie_description\"})\n",
    "movies[\"source\"] = \"https://www.imdb.com/title/\" + movies[\"tconst\"]\n",
    "movies = movies.loc[\n",
    "    movies[\"titleType\"] == \"movie\",\n",
    "    [\"movie_title\", \"movie_description\", \"source\", \"genres\"]\n",
    "]\n",
    "movies\n",
    "\n",
    "movies.head()"
   ]
  },
  {
   "cell_type": "code",
   "execution_count": 14,
   "id": "4f9ca9e2-ef94-4268-96da-5e65cbb41889",
   "metadata": {
    "scrolled": true
   },
   "outputs": [
    {
     "data": {
      "text/plain": [
       "[Document(page_content=\"Title: The Silence of the Lambs\\nGenre: Crime,Drama,Thriller\\nDescription: Jodie Foster stars as Clarice Starling, a top student at the FBI's training academy. Jack Crawford (Scott Glenn) wants Clarice to interview Dr. Hannibal Lecter (Anthony Hopkins), a brilliant psychiatrist who is also a violent psychopath, serving life behind bars for various acts of murder and cannibalism. Crawford believes that Lecter may have insight into a case and that Starling, as an attractive young woman, may be just the bait to draw him out.\", metadata={'source': 'https://www.imdb.com/title/tt0102926'}),\n",
       " Document(page_content='Title: Terminator 2: Judgment Day\\nGenre: Action,Sci-Fi\\nDescription: In this sequel set eleven years after \"The Terminator,\" young John Connor (Edward Furlong), the key to civilization\\'s victory over a future robot uprising, is the target of the shape-shifting T-1000 (Robert Patrick), a Terminator sent from the future to kill him. Another Terminator, the revamped T-800 (Arnold Schwarzenegger), has been sent back to protect the boy. As John and his mother (Linda Hamilton) go on the run with the T-800, the boy forms an unexpected bond with the robot.', metadata={'source': 'https://www.imdb.com/title/tt0103064'}),\n",
       " Document(page_content=\"Title: The Lion King\\nGenre: Adventure,Animation,Drama\\nDescription: This Disney animated feature follows the adventures of the young lion Simba (Jonathan Taylor Thomas), the heir of his father, Mufasa (James Earl Jones). Simba's wicked uncle, Scar (Jeremy Irons), plots to usurp Mufasa's throne by luring father and son into a stampede of wildebeests. But Simba escapes, and only Mufasa is killed. Simba returns as an adult (Matthew Broderick) to take back his homeland from Scar with the help of his friends Timon (Nathan Lane) and Pumbaa (Ernie Sabella).\", metadata={'source': 'https://www.imdb.com/title/tt0110357'})]"
      ]
     },
     "execution_count": 14,
     "metadata": {},
     "output_type": "execute_result"
    }
   ],
   "source": [
    "from langchain.document_loaders import DataFrameLoader \n",
    "\n",
    "movies [\"page_content\"] =  (\"Title: \" + movies[\"movie_title\"] + \"\\n\" + \\\n",
    "                           \"Genre: \" + movies[\"genres\"] + \"\\n\" + \\\n",
    "                           \"Description: \" + movies[\"movie_description\"])\n",
    "movies = movies[[\"page_content\", \"source\"]]\n",
    "\n",
    "docs = DataFrameLoader(movies, page_content_column=\"page_content\",).load()\n",
    "\n",
    "docs [:3]"
   ]
  },
  {
   "cell_type": "code",
   "execution_count": 15,
   "id": "9df583bd-1c37-4093-888d-e7d78179b96a",
   "metadata": {},
   "outputs": [
    {
     "data": {
      "text/plain": [
       "0.0374556"
      ]
     },
     "execution_count": 15,
     "metadata": {},
     "output_type": "execute_result"
    }
   ],
   "source": [
    "import tiktoken\n",
    "\n",
    "encoder = tiktoken.get_encoding(\"cl100k_base\")\n",
    "\n",
    "tokens_per_docs = [len(encoder.encode(doc.page_content)) for doc in docs]\n",
    "\n",
    "tokens_per_docs\n",
    "\n",
    "total_tokens = sum(tokens_per_docs)\n",
    "cost_per_1000_tokens = 0.0001\n",
    "cost = (total_tokens/1000) * cost_per_1000_tokens\n",
    "cost"
   ]
  },
  {
   "cell_type": "code",
   "execution_count": 16,
   "id": "4c711ddc-0c0d-43cd-b15d-42d8201ddd60",
   "metadata": {},
   "outputs": [
    {
     "name": "stdout",
     "output_type": "stream",
     "text": [
      "['imdb-movies']\n"
     ]
    }
   ],
   "source": [
    "import os\n",
    "import pinecone\n",
    "\n",
    "pinecone.init(\n",
    "    api_key= os.getenv(\"PINECONE_API_KEY\"),\n",
    "    environment = \"gcp-starter\",\n",
    ")\n",
    "\n",
    "print(pinecone.list_indexes())\n",
    "\n",
    "index_name = \"imdb-movies\"\n",
    "\n",
    "# First check that the given index does not exist yet\n",
    "if index_name not in pinecone.list_indexes():\n",
    "    # Create the 'imbd-movies' index if it does not exist\n",
    "    pinecone.create_index(\n",
    "        name = index_name,\n",
    "        metric = \"cosine\",\n",
    "        dimension = 1536,\n",
    "    )"
   ]
  },
  {
   "cell_type": "code",
   "execution_count": 19,
   "id": "7300a3b1-ecbf-462c-a6aa-105453d0fed3",
   "metadata": {},
   "outputs": [
    {
     "data": {
      "text/plain": [
       "[Document(page_content=\"Title: Thor: Ragnarok\\nGenre: Action,Adventure,Comedy\\nDescription: Imprisoned on the other side of the universe, the mighty Thor finds himself in a deadly gladiatorial contest that pits him against the Hulk, his former ally and fellow Avenger. Thor's quest for survival leads him in a race against time to prevent the all-powerful Hela from destroying his home world and the Asgardian civilization.\", metadata={'source': 'https://www.imdb.com/title/tt3501632'}),\n",
       " Document(page_content='Title: Troy\\nGenre: Drama\\nDescription: Based on Homer\\'s \"Iliad,\" this epic portrays the battle between the ancient kingdoms of Troy and Sparta. While visiting Spartan King Menelaus (Brendan Gleeson), Trojan prince Paris (Orlando Bloom) falls for Menelaus\\' wife, Helen (Diane Kruger), and takes her back to Troy. Menelaus\\' brother, King Agamemnon (Brian Cox), having already defeated every army in Greece, uses his brother\\'s fury as a pretext to declare war against Troy, the last kingdom preventing his control over the Aegean Sea.', metadata={'source': 'https://www.imdb.com/title/tt0332452'}),\n",
       " Document(page_content=\"Title: Braveheart\\nGenre: Biography,Drama,History\\nDescription: Chief Standing Rock's tribe has a treaty protecting its fishing grounds, but a canning corporation is violating the treaty through intimidation and force. Standing Rock's son, Braveheart, is sent to college to study law to protect their rights.\", metadata={'source': 'https://www.imdb.com/title/tt0112573'}),\n",
       " Document(page_content='Title: The Lord of the Rings: The Fellowship of the Ring\\nGenre: Action,Adventure,Drama\\nDescription: The future of civilization rests in the fate of the One Ring, which has been lost for centuries. Powerful forces are unrelenting in their search for it. But fate has placed it in the hands of a young Hobbit named Frodo Baggins (Elijah Wood), who inherits the Ring and steps into legend. A daunting task lies ahead for Frodo when he becomes the Ringbearer - to destroy the One Ring in the fires of Mount Doom where it was forged.', metadata={'source': 'https://www.imdb.com/title/tt0120737'})]"
      ]
     },
     "execution_count": 19,
     "metadata": {},
     "output_type": "execute_result"
    }
   ],
   "source": [
    "from langchain.embeddings.openai import OpenAIEmbeddings\n",
    "from langchain.vectorstores import Pinecone\n",
    "from pinecone.index import Index\n",
    "\n",
    "embeddings = OpenAIEmbeddings()\n",
    "\n",
    "index = Index(index_name)\n",
    "\n",
    "if index.describe_index_stats()['total_vector_count'] > 0:\n",
    "    # If there is, use from_existing_index to use the vector store\n",
    "    docsearch = Pinecone.from_existing_index(\n",
    "        index_name, \n",
    "        embeddings)\n",
    "else:\n",
    "    # If there is not, use from_documents to fill the vector store\n",
    "    docsearch = Pinecone.from_documents(\n",
    "        docs, \n",
    "        embeddings,\n",
    "        index_name = index_name\n",
    "    )\n",
    "\n",
    "question = \"What's a good movie about an epic viking?\"\n",
    "    \n",
    "# Use the vector database as a retriever and get the relevant documents for a quesiton\n",
    "docsearch.as_retriever().get_relevant_documents(question)"
   ]
  },
  {
   "cell_type": "code",
   "execution_count": 22,
   "id": "4d2a147c-baff-43be-80ed-e0ce43d96c23",
   "metadata": {},
   "outputs": [],
   "source": [
    "# Import PromptTemplate\n",
    "from langchain.prompts import PromptTemplate\n",
    "\n",
    "# Read/adapt the prompts below at will\n",
    "DOCUMENT_PROMPT = \"\"\"{page_content}\n",
    "IMDB link: {source}\n",
    "=========\"\"\"\n",
    "\n",
    "QUESTION_PROMPT = \"\"\"Given the following extracted parts of a movie database and a question, create a final answer with the IMDB link as source (\"SOURCE\").\n",
    "If you don't know the answer, just say that you don't know. Don't try to make up an answer.\n",
    "ALWAYS return a \"SOURCE\" part in your answer.\n",
    "\n",
    "QUESTION: What's a good movie about a robot to watch with my kid?\n",
    "=========\n",
    "Title: A.I. Artificial Intelligence\n",
    "Genre: Drama,Sci-Fi\n",
    "Description: A robotic boy, the first programmed to love, David (Haley Joel Osment) is adopted as a test case by a Cybertronics employee (Sam Robards) and his wife (Frances O'Connor). Though he gradually becomes their child, a series of unexpected circumstances make this life impossible for David. Without final acceptance by humans or machines, David embarks on a journey to discover where he truly belongs, uncovering a world in which the line between robot and machine is both vast and profoundly thin.\n",
    "IMDB link: https://www.imdb.com/title/tt0212720\n",
    "=========\n",
    "Title: I, Robot\n",
    "Genre: Action,Mystery,Sci-Fi\n",
    "Description: In 2035, highly intelligent robots fill public service positions throughout the world, operating under three rules to keep humans safe. Despite his dark history with robotics, Detective Del Spooner (Will Smith) investigates the alleged suicide of U.S. Robotics founder Alfred Lanning (James Cromwell) and believes that a human-like robot (Alan Tudyk) murdered him. With the help of a robot expert (Bridget Moynahan), Spooner discovers a conspiracy that may enslave the human race.\n",
    "IMDB link: https://www.imdb.com/title/tt0343818\n",
    "=========\n",
    "Title: The Iron Giant\n",
    "Genre: Action,Adventure,Animation\n",
    "Description: In this animated adaptation of Ted Hughes' Cold War fable, a giant alien robot (Vin Diesel) crash-lands near the small town of Rockwell, Maine, in 1957. Exploring the area, a local 9-year-old boy, Hogarth, discovers the robot, and soon forms an unlikely friendship with him. When a paranoid government agent, Kent Mansley, becomes determined to destroy the robot, Hogarth and beatnik Dean McCoppin (Harry Connick Jr.) must do what they can to save the misunderstood machine.\n",
    "IMDB link: https://www.imdb.com/title/tt0129167\n",
    "=========\n",
    "FINAL ANSWER: 'The Iron Giant' is an animated movie about a friendship between a robot and a kid. It would be a good movie to watch with a kid.\n",
    "SOURCE: https://www.imdb.com/title/tt0129167\n",
    "\n",
    "QUESTION: {question}\n",
    "=========\n",
    "{summaries}\n",
    "FINAL ANSWER:\"\"\"\n",
    "\n",
    "# Create prompt template objects\n",
    "document_prompt = PromptTemplate.from_template(DOCUMENT_PROMPT)\n",
    "question_prompt = PromptTemplate.from_template(QUESTION_PROMPT)"
   ]
  },
  {
   "cell_type": "code",
   "execution_count": 23,
   "id": "c71d86e3-b1b1-4a09-aae9-1c74e956738c",
   "metadata": {},
   "outputs": [
    {
     "data": {
      "text/plain": [
       "{'question': \"What's a good movie about an epic viking?\",\n",
       " 'answer': \"'Troy' is a good movie about an epic viking. It portrays the battle between the ancient kingdoms of Troy and Sparta. \\n\",\n",
       " 'sources': 'https://www.imdb.com/title/tt0332452'}"
      ]
     },
     "execution_count": 23,
     "metadata": {},
     "output_type": "execute_result"
    }
   ],
   "source": [
    "# Import RetrievalQAWithSourcesChain and ChatOpenAI\n",
    "from langchain.chains import RetrievalQAWithSourcesChain\n",
    "from langchain.chat_models import ChatOpenAI\n",
    "\n",
    "# Create the QA bot LLM chain\n",
    "qa_with_sources = RetrievalQAWithSourcesChain.from_chain_type(\n",
    "    chain_type = \"stuff\",\n",
    "    llm = ChatOpenAI(model_name = \"gpt-3.5-turbo\", temperature = 0),\n",
    "    chain_type_kwargs = {\n",
    "        \"prompt\": question_prompt,\n",
    "        \"document_prompt\": document_prompt,\n",
    "    },\n",
    "    retriever = docsearch.as_retriever(),\n",
    ")\n",
    "\n",
    "# Ask the LLM a question about movies\n",
    "qa_with_sources(question)"
   ]
  },
  {
   "cell_type": "code",
   "execution_count": 24,
   "id": "0d2dae34-d44e-48be-85fb-d19f2103d35e",
   "metadata": {},
   "outputs": [
    {
     "name": "stdout",
     "output_type": "stream",
     "text": [
      "\u001b[32;1m\u001b[1;3m[chain/start]\u001b[0m \u001b[1m[1:chain:RetrievalQAWithSourcesChain] Entering Chain run with input:\n",
      "\u001b[0m{\n",
      "  \"question\": \"What's a good movie about an epic viking?\"\n",
      "}\n",
      "\u001b[32;1m\u001b[1;3m[chain/start]\u001b[0m \u001b[1m[1:chain:RetrievalQAWithSourcesChain > 3:chain:StuffDocumentsChain] Entering Chain run with input:\n",
      "\u001b[0m[inputs]\n",
      "\u001b[32;1m\u001b[1;3m[chain/start]\u001b[0m \u001b[1m[1:chain:RetrievalQAWithSourcesChain > 3:chain:StuffDocumentsChain > 4:chain:LLMChain] Entering Chain run with input:\n",
      "\u001b[0m{\n",
      "  \"question\": \"What's a good movie about an epic viking?\",\n",
      "  \"summaries\": \"Title: Thor: Ragnarok\\nGenre: Action,Adventure,Comedy\\nDescription: Imprisoned on the other side of the universe, the mighty Thor finds himself in a deadly gladiatorial contest that pits him against the Hulk, his former ally and fellow Avenger. Thor's quest for survival leads him in a race against time to prevent the all-powerful Hela from destroying his home world and the Asgardian civilization.\\nIMDB link: https://www.imdb.com/title/tt3501632\\n=========\\n\\nTitle: Troy\\nGenre: Drama\\nDescription: Based on Homer's \\\"Iliad,\\\" this epic portrays the battle between the ancient kingdoms of Troy and Sparta. While visiting Spartan King Menelaus (Brendan Gleeson), Trojan prince Paris (Orlando Bloom) falls for Menelaus' wife, Helen (Diane Kruger), and takes her back to Troy. Menelaus' brother, King Agamemnon (Brian Cox), having already defeated every army in Greece, uses his brother's fury as a pretext to declare war against Troy, the last kingdom preventing his control over the Aegean Sea.\\nIMDB link: https://www.imdb.com/title/tt0332452\\n=========\\n\\nTitle: Braveheart\\nGenre: Biography,Drama,History\\nDescription: Chief Standing Rock's tribe has a treaty protecting its fishing grounds, but a canning corporation is violating the treaty through intimidation and force. Standing Rock's son, Braveheart, is sent to college to study law to protect their rights.\\nIMDB link: https://www.imdb.com/title/tt0112573\\n=========\\n\\nTitle: The Lord of the Rings: The Fellowship of the Ring\\nGenre: Action,Adventure,Drama\\nDescription: The future of civilization rests in the fate of the One Ring, which has been lost for centuries. Powerful forces are unrelenting in their search for it. But fate has placed it in the hands of a young Hobbit named Frodo Baggins (Elijah Wood), who inherits the Ring and steps into legend. A daunting task lies ahead for Frodo when he becomes the Ringbearer - to destroy the One Ring in the fires of Mount Doom where it was forged.\\nIMDB link: https://www.imdb.com/title/tt0120737\\n=========\"\n",
      "}\n",
      "\u001b[32;1m\u001b[1;3m[llm/start]\u001b[0m \u001b[1m[1:chain:RetrievalQAWithSourcesChain > 3:chain:StuffDocumentsChain > 4:chain:LLMChain > 5:llm:ChatOpenAI] Entering LLM run with input:\n",
      "\u001b[0m{\n",
      "  \"prompts\": [\n",
      "    \"Human: Given the following extracted parts of a movie database and a question, create a final answer with the IMDB link as source (\\\"SOURCE\\\").\\nIf you don't know the answer, just say that you don't know. Don't try to make up an answer.\\nALWAYS return a \\\"SOURCE\\\" part in your answer.\\n\\nQUESTION: What's a good movie about a robot to watch with my kid?\\n=========\\nTitle: A.I. Artificial Intelligence\\nGenre: Drama,Sci-Fi\\nDescription: A robotic boy, the first programmed to love, David (Haley Joel Osment) is adopted as a test case by a Cybertronics employee (Sam Robards) and his wife (Frances O'Connor). Though he gradually becomes their child, a series of unexpected circumstances make this life impossible for David. Without final acceptance by humans or machines, David embarks on a journey to discover where he truly belongs, uncovering a world in which the line between robot and machine is both vast and profoundly thin.\\nIMDB link: https://www.imdb.com/title/tt0212720\\n=========\\nTitle: I, Robot\\nGenre: Action,Mystery,Sci-Fi\\nDescription: In 2035, highly intelligent robots fill public service positions throughout the world, operating under three rules to keep humans safe. Despite his dark history with robotics, Detective Del Spooner (Will Smith) investigates the alleged suicide of U.S. Robotics founder Alfred Lanning (James Cromwell) and believes that a human-like robot (Alan Tudyk) murdered him. With the help of a robot expert (Bridget Moynahan), Spooner discovers a conspiracy that may enslave the human race.\\nIMDB link: https://www.imdb.com/title/tt0343818\\n=========\\nTitle: The Iron Giant\\nGenre: Action,Adventure,Animation\\nDescription: In this animated adaptation of Ted Hughes' Cold War fable, a giant alien robot (Vin Diesel) crash-lands near the small town of Rockwell, Maine, in 1957. Exploring the area, a local 9-year-old boy, Hogarth, discovers the robot, and soon forms an unlikely friendship with him. When a paranoid government agent, Kent Mansley, becomes determined to destroy the robot, Hogarth and beatnik Dean McCoppin (Harry Connick Jr.) must do what they can to save the misunderstood machine.\\nIMDB link: https://www.imdb.com/title/tt0129167\\n=========\\nFINAL ANSWER: 'The Iron Giant' is an animated movie about a friendship between a robot and a kid. It would be a good movie to watch with a kid.\\nSOURCE: https://www.imdb.com/title/tt0129167\\n\\nQUESTION: What's a good movie about an epic viking?\\n=========\\nTitle: Thor: Ragnarok\\nGenre: Action,Adventure,Comedy\\nDescription: Imprisoned on the other side of the universe, the mighty Thor finds himself in a deadly gladiatorial contest that pits him against the Hulk, his former ally and fellow Avenger. Thor's quest for survival leads him in a race against time to prevent the all-powerful Hela from destroying his home world and the Asgardian civilization.\\nIMDB link: https://www.imdb.com/title/tt3501632\\n=========\\n\\nTitle: Troy\\nGenre: Drama\\nDescription: Based on Homer's \\\"Iliad,\\\" this epic portrays the battle between the ancient kingdoms of Troy and Sparta. While visiting Spartan King Menelaus (Brendan Gleeson), Trojan prince Paris (Orlando Bloom) falls for Menelaus' wife, Helen (Diane Kruger), and takes her back to Troy. Menelaus' brother, King Agamemnon (Brian Cox), having already defeated every army in Greece, uses his brother's fury as a pretext to declare war against Troy, the last kingdom preventing his control over the Aegean Sea.\\nIMDB link: https://www.imdb.com/title/tt0332452\\n=========\\n\\nTitle: Braveheart\\nGenre: Biography,Drama,History\\nDescription: Chief Standing Rock's tribe has a treaty protecting its fishing grounds, but a canning corporation is violating the treaty through intimidation and force. Standing Rock's son, Braveheart, is sent to college to study law to protect their rights.\\nIMDB link: https://www.imdb.com/title/tt0112573\\n=========\\n\\nTitle: The Lord of the Rings: The Fellowship of the Ring\\nGenre: Action,Adventure,Drama\\nDescription: The future of civilization rests in the fate of the One Ring, which has been lost for centuries. Powerful forces are unrelenting in their search for it. But fate has placed it in the hands of a young Hobbit named Frodo Baggins (Elijah Wood), who inherits the Ring and steps into legend. A daunting task lies ahead for Frodo when he becomes the Ringbearer - to destroy the One Ring in the fires of Mount Doom where it was forged.\\nIMDB link: https://www.imdb.com/title/tt0120737\\n=========\\nFINAL ANSWER:\"\n",
      "  ]\n",
      "}\n",
      "\u001b[36;1m\u001b[1;3m[llm/end]\u001b[0m \u001b[1m[1:chain:RetrievalQAWithSourcesChain > 3:chain:StuffDocumentsChain > 4:chain:LLMChain > 5:llm:ChatOpenAI] [1.92s] Exiting LLM run with output:\n",
      "\u001b[0m{\n",
      "  \"generations\": [\n",
      "    [\n",
      "      {\n",
      "        \"text\": \"'Troy' is a good movie about an epic viking. It portrays the battle between the ancient kingdoms of Troy and Sparta. \\nSOURCE: https://www.imdb.com/title/tt0332452\",\n",
      "        \"generation_info\": {\n",
      "          \"finish_reason\": \"stop\"\n",
      "        },\n",
      "        \"message\": {\n",
      "          \"lc\": 1,\n",
      "          \"type\": \"constructor\",\n",
      "          \"id\": [\n",
      "            \"langchain\",\n",
      "            \"schema\",\n",
      "            \"messages\",\n",
      "            \"AIMessage\"\n",
      "          ],\n",
      "          \"kwargs\": {\n",
      "            \"content\": \"'Troy' is a good movie about an epic viking. It portrays the battle between the ancient kingdoms of Troy and Sparta. \\nSOURCE: https://www.imdb.com/title/tt0332452\",\n",
      "            \"additional_kwargs\": {}\n",
      "          }\n",
      "        }\n",
      "      }\n",
      "    ]\n",
      "  ],\n",
      "  \"llm_output\": {\n",
      "    \"token_usage\": {\n",
      "      \"prompt_tokens\": 1050,\n",
      "      \"completion_tokens\": 42,\n",
      "      \"total_tokens\": 1092\n",
      "    },\n",
      "    \"model_name\": \"gpt-3.5-turbo\"\n",
      "  },\n",
      "  \"run\": null\n",
      "}\n",
      "\u001b[36;1m\u001b[1;3m[chain/end]\u001b[0m \u001b[1m[1:chain:RetrievalQAWithSourcesChain > 3:chain:StuffDocumentsChain > 4:chain:LLMChain] [1.92s] Exiting Chain run with output:\n",
      "\u001b[0m{\n",
      "  \"text\": \"'Troy' is a good movie about an epic viking. It portrays the battle between the ancient kingdoms of Troy and Sparta. \\nSOURCE: https://www.imdb.com/title/tt0332452\"\n",
      "}\n",
      "\u001b[36;1m\u001b[1;3m[chain/end]\u001b[0m \u001b[1m[1:chain:RetrievalQAWithSourcesChain > 3:chain:StuffDocumentsChain] [1.92s] Exiting Chain run with output:\n",
      "\u001b[0m{\n",
      "  \"output_text\": \"'Troy' is a good movie about an epic viking. It portrays the battle between the ancient kingdoms of Troy and Sparta. \\nSOURCE: https://www.imdb.com/title/tt0332452\"\n",
      "}\n",
      "\u001b[36;1m\u001b[1;3m[chain/end]\u001b[0m \u001b[1m[1:chain:RetrievalQAWithSourcesChain] [4.36s] Exiting Chain run with output:\n",
      "\u001b[0m{\n",
      "  \"answer\": \"'Troy' is a good movie about an epic viking. It portrays the battle between the ancient kingdoms of Troy and Sparta. \\n\",\n",
      "  \"sources\": \"https://www.imdb.com/title/tt0332452\"\n",
      "}\n"
     ]
    },
    {
     "data": {
      "text/plain": [
       "{'question': \"What's a good movie about an epic viking?\",\n",
       " 'answer': \"'Troy' is a good movie about an epic viking. It portrays the battle between the ancient kingdoms of Troy and Sparta. \\n\",\n",
       " 'sources': 'https://www.imdb.com/title/tt0332452'}"
      ]
     },
     "execution_count": 24,
     "metadata": {},
     "output_type": "execute_result"
    }
   ],
   "source": [
    "# Import langchain\n",
    "import langchain\n",
    "\n",
    "\n",
    "# Enable debug logging\n",
    "langchain.debug = True\n",
    "\n",
    "# Ask the LLM a question about movies\n",
    "qa_with_sources(question)"
   ]
  },
  {
   "cell_type": "code",
   "execution_count": null,
   "id": "d922c8f5-89e4-4a8d-9fb4-ad580ccba1d6",
   "metadata": {},
   "outputs": [],
   "source": []
  }
 ],
 "metadata": {
  "kernelspec": {
   "display_name": "Python 3 (ipykernel)",
   "language": "python",
   "name": "python3"
  },
  "language_info": {
   "codemirror_mode": {
    "name": "ipython",
    "version": 3
   },
   "file_extension": ".py",
   "mimetype": "text/x-python",
   "name": "python",
   "nbconvert_exporter": "python",
   "pygments_lexer": "ipython3",
   "version": "3.11.5"
  }
 },
 "nbformat": 4,
 "nbformat_minor": 5
}
