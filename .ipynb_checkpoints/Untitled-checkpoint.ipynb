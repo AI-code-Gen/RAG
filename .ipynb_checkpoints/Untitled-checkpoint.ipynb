{
 "cells": [
  {
   "cell_type": "code",
   "execution_count": 1,
   "id": "4e1b121c-5972-474a-9e87-0d554ceeeb71",
   "metadata": {},
   "outputs": [
    {
     "name": "stdout",
     "output_type": "stream",
     "text": [
      "Collecting pinecone-client==2.2.2\n",
      "  Using cached pinecone_client-2.2.2-py3-none-any.whl.metadata (7.8 kB)\n",
      "Collecting openai==0.28.0\n",
      "  Using cached openai-0.28.0-py3-none-any.whl.metadata (13 kB)\n",
      "Collecting tiktoken==0.5.1\n",
      "  Using cached tiktoken-0.5.1-cp311-cp311-win_amd64.whl.metadata (6.8 kB)\n",
      "Collecting langchain==0.0.291\n",
      "  Using cached langchain-0.0.291-py3-none-any.whl.metadata (14 kB)\n",
      "Requirement already satisfied: requests>=2.19.0 in c:\\users\\caotc\\.conda\\envs\\jupyterlab\\lib\\site-packages (from pinecone-client==2.2.2) (2.31.0)\n",
      "Requirement already satisfied: pyyaml>=5.4 in c:\\users\\caotc\\.conda\\envs\\jupyterlab\\lib\\site-packages (from pinecone-client==2.2.2) (6.0.1)\n",
      "Collecting loguru>=0.5.0 (from pinecone-client==2.2.2)\n",
      "  Using cached loguru-0.7.2-py3-none-any.whl.metadata (23 kB)\n",
      "Requirement already satisfied: typing-extensions>=3.7.4 in c:\\users\\caotc\\.conda\\envs\\jupyterlab\\lib\\site-packages (from pinecone-client==2.2.2) (4.7.1)\n",
      "Collecting dnspython>=2.0.0 (from pinecone-client==2.2.2)\n",
      "  Using cached dnspython-2.4.2-py3-none-any.whl.metadata (4.9 kB)\n",
      "Requirement already satisfied: python-dateutil>=2.5.3 in c:\\users\\caotc\\.conda\\envs\\jupyterlab\\lib\\site-packages (from pinecone-client==2.2.2) (2.8.2)\n",
      "Requirement already satisfied: urllib3>=1.21.1 in c:\\users\\caotc\\.conda\\envs\\jupyterlab\\lib\\site-packages (from pinecone-client==2.2.2) (1.26.18)\n",
      "Collecting tqdm>=4.64.1 (from pinecone-client==2.2.2)\n",
      "  Using cached tqdm-4.66.1-py3-none-any.whl.metadata (57 kB)\n",
      "Requirement already satisfied: numpy>=1.22.0 in c:\\users\\caotc\\.conda\\envs\\jupyterlab\\lib\\site-packages (from pinecone-client==2.2.2) (1.26.2)\n",
      "Requirement already satisfied: aiohttp in c:\\users\\caotc\\.conda\\envs\\jupyterlab\\lib\\site-packages (from openai==0.28.0) (3.9.0)\n",
      "Collecting regex>=2022.1.18 (from tiktoken==0.5.1)\n",
      "  Downloading regex-2023.12.25-cp311-cp311-win_amd64.whl.metadata (41 kB)\n",
      "     ---------------------------------------- 0.0/42.0 kB ? eta -:--:--\n",
      "     --------- ------------------------------ 10.2/42.0 kB ? eta -:--:--\n",
      "     --------- ------------------------------ 10.2/42.0 kB ? eta -:--:--\n",
      "     ------------------ ------------------- 20.5/42.0 kB 162.5 kB/s eta 0:00:01\n",
      "     ------------------ ------------------- 20.5/42.0 kB 162.5 kB/s eta 0:00:01\n",
      "     -------------------------------------  41.0/42.0 kB 178.6 kB/s eta 0:00:01\n",
      "     -------------------------------------- 42.0/42.0 kB 168.8 kB/s eta 0:00:00\n",
      "Collecting SQLAlchemy<3,>=1.4 (from langchain==0.0.291)\n",
      "  Using cached SQLAlchemy-2.0.23-cp311-cp311-win_amd64.whl.metadata (9.8 kB)\n",
      "Collecting dataclasses-json<0.6.0,>=0.5.7 (from langchain==0.0.291)\n",
      "  Using cached dataclasses_json-0.5.14-py3-none-any.whl.metadata (22 kB)\n",
      "Collecting langsmith<0.1.0,>=0.0.21 (from langchain==0.0.291)\n",
      "  Downloading langsmith-0.0.75-py3-none-any.whl.metadata (10 kB)\n",
      "Collecting numexpr<3.0.0,>=2.8.4 (from langchain==0.0.291)\n",
      "  Using cached numexpr-2.8.8-cp311-cp311-win_amd64.whl.metadata (8.1 kB)\n",
      "Collecting pydantic<3,>=1 (from langchain==0.0.291)\n",
      "  Downloading pydantic-2.5.3-py3-none-any.whl.metadata (65 kB)\n",
      "     ---------------------------------------- 0.0/65.6 kB ? eta -:--:--\n",
      "     ------------------ --------------------- 30.7/65.6 kB 1.3 MB/s eta 0:00:01\n",
      "     ----------------------- -------------- 41.0/65.6 kB 960.0 kB/s eta 0:00:01\n",
      "     -------------------------------------- 65.6/65.6 kB 588.9 kB/s eta 0:00:00\n",
      "Collecting tenacity<9.0.0,>=8.1.0 (from langchain==0.0.291)\n",
      "  Using cached tenacity-8.2.3-py3-none-any.whl.metadata (1.0 kB)\n",
      "Requirement already satisfied: attrs>=17.3.0 in c:\\users\\caotc\\.conda\\envs\\jupyterlab\\lib\\site-packages (from aiohttp->openai==0.28.0) (23.1.0)\n",
      "Requirement already satisfied: multidict<7.0,>=4.5 in c:\\users\\caotc\\.conda\\envs\\jupyterlab\\lib\\site-packages (from aiohttp->openai==0.28.0) (6.0.4)\n",
      "Requirement already satisfied: yarl<2.0,>=1.0 in c:\\users\\caotc\\.conda\\envs\\jupyterlab\\lib\\site-packages (from aiohttp->openai==0.28.0) (1.9.3)\n",
      "Requirement already satisfied: frozenlist>=1.1.1 in c:\\users\\caotc\\.conda\\envs\\jupyterlab\\lib\\site-packages (from aiohttp->openai==0.28.0) (1.4.0)\n",
      "Requirement already satisfied: aiosignal>=1.1.2 in c:\\users\\caotc\\.conda\\envs\\jupyterlab\\lib\\site-packages (from aiohttp->openai==0.28.0) (1.3.1)\n",
      "Collecting marshmallow<4.0.0,>=3.18.0 (from dataclasses-json<0.6.0,>=0.5.7->langchain==0.0.291)\n",
      "  Using cached marshmallow-3.20.1-py3-none-any.whl.metadata (7.8 kB)\n",
      "Collecting typing-inspect<1,>=0.4.0 (from dataclasses-json<0.6.0,>=0.5.7->langchain==0.0.291)\n",
      "  Using cached typing_inspect-0.9.0-py3-none-any.whl.metadata (1.5 kB)\n",
      "Requirement already satisfied: colorama>=0.3.4 in c:\\users\\caotc\\.conda\\envs\\jupyterlab\\lib\\site-packages (from loguru>=0.5.0->pinecone-client==2.2.2) (0.4.6)\n",
      "Collecting win32-setctime>=1.0.0 (from loguru>=0.5.0->pinecone-client==2.2.2)\n",
      "  Using cached win32_setctime-1.1.0-py3-none-any.whl (3.6 kB)\n",
      "Collecting annotated-types>=0.4.0 (from pydantic<3,>=1->langchain==0.0.291)\n",
      "  Using cached annotated_types-0.6.0-py3-none-any.whl.metadata (12 kB)\n",
      "Collecting pydantic-core==2.14.6 (from pydantic<3,>=1->langchain==0.0.291)\n",
      "  Downloading pydantic_core-2.14.6-cp311-none-win_amd64.whl.metadata (6.6 kB)\n",
      "Requirement already satisfied: six>=1.5 in c:\\users\\caotc\\.conda\\envs\\jupyterlab\\lib\\site-packages (from python-dateutil>=2.5.3->pinecone-client==2.2.2) (1.16.0)\n",
      "Requirement already satisfied: charset-normalizer<4,>=2 in c:\\users\\caotc\\.conda\\envs\\jupyterlab\\lib\\site-packages (from requests>=2.19.0->pinecone-client==2.2.2) (2.0.4)\n",
      "Requirement already satisfied: idna<4,>=2.5 in c:\\users\\caotc\\.conda\\envs\\jupyterlab\\lib\\site-packages (from requests>=2.19.0->pinecone-client==2.2.2) (3.4)\n",
      "Requirement already satisfied: certifi>=2017.4.17 in c:\\users\\caotc\\.conda\\envs\\jupyterlab\\lib\\site-packages (from requests>=2.19.0->pinecone-client==2.2.2) (2023.11.17)\n",
      "Collecting greenlet!=0.4.17 (from SQLAlchemy<3,>=1.4->langchain==0.0.291)\n",
      "  Downloading greenlet-3.0.3-cp311-cp311-win_amd64.whl.metadata (3.9 kB)\n",
      "Requirement already satisfied: packaging>=17.0 in c:\\users\\caotc\\.conda\\envs\\jupyterlab\\lib\\site-packages (from marshmallow<4.0.0,>=3.18.0->dataclasses-json<0.6.0,>=0.5.7->langchain==0.0.291) (23.1)\n",
      "Collecting mypy-extensions>=0.3.0 (from typing-inspect<1,>=0.4.0->dataclasses-json<0.6.0,>=0.5.7->langchain==0.0.291)\n",
      "  Downloading mypy_extensions-1.0.0-py3-none-any.whl (4.7 kB)\n",
      "Using cached pinecone_client-2.2.2-py3-none-any.whl (179 kB)\n",
      "Using cached openai-0.28.0-py3-none-any.whl (76 kB)\n",
      "Using cached tiktoken-0.5.1-cp311-cp311-win_amd64.whl (759 kB)\n",
      "Using cached langchain-0.0.291-py3-none-any.whl (1.7 MB)\n",
      "Using cached dataclasses_json-0.5.14-py3-none-any.whl (26 kB)\n",
      "Using cached dnspython-2.4.2-py3-none-any.whl (300 kB)\n",
      "Downloading langsmith-0.0.75-py3-none-any.whl (46 kB)\n",
      "   ---------------------------------------- 0.0/46.7 kB ? eta -:--:--\n",
      "   ---------------------------------------- 46.7/46.7 kB 1.1 MB/s eta 0:00:00\n",
      "Using cached loguru-0.7.2-py3-none-any.whl (62 kB)\n",
      "Using cached numexpr-2.8.8-cp311-cp311-win_amd64.whl (96 kB)\n",
      "Downloading pydantic-2.5.3-py3-none-any.whl (381 kB)\n",
      "   ---------------------------------------- 0.0/381.9 kB ? eta -:--:--\n",
      "   --------- ------------------------------ 92.2/381.9 kB 2.6 MB/s eta 0:00:01\n",
      "   ----------- ---------------------------- 112.6/381.9 kB 3.3 MB/s eta 0:00:01\n",
      "   --------------------- ------------------ 204.8/381.9 kB 1.6 MB/s eta 0:00:01\n",
      "   ------------------------------------- -- 358.4/381.9 kB 2.2 MB/s eta 0:00:01\n",
      "   ---------------------------------------- 381.9/381.9 kB 1.7 MB/s eta 0:00:00\n",
      "Downloading pydantic_core-2.14.6-cp311-none-win_amd64.whl (1.9 MB)\n",
      "   ---------------------------------------- 0.0/1.9 MB ? eta -:--:--\n",
      "   --------- ------------------------------ 0.5/1.9 MB 14.4 MB/s eta 0:00:01\n",
      "   ---------- ----------------------------- 0.5/1.9 MB 6.2 MB/s eta 0:00:01\n",
      "   ----------------------- ---------------- 1.1/1.9 MB 8.8 MB/s eta 0:00:01\n",
      "   --------------------------------- ------ 1.6/1.9 MB 9.2 MB/s eta 0:00:01\n",
      "   ---------------------------------------- 1.9/1.9 MB 8.6 MB/s eta 0:00:00\n",
      "Downloading regex-2023.12.25-cp311-cp311-win_amd64.whl (269 kB)\n",
      "   ---------------------------------------- 0.0/269.5 kB ? eta -:--:--\n",
      "   ---------------------------------------- 269.5/269.5 kB 8.4 MB/s eta 0:00:00\n",
      "Using cached SQLAlchemy-2.0.23-cp311-cp311-win_amd64.whl (2.1 MB)\n",
      "Using cached tenacity-8.2.3-py3-none-any.whl (24 kB)\n",
      "Using cached tqdm-4.66.1-py3-none-any.whl (78 kB)\n",
      "Using cached annotated_types-0.6.0-py3-none-any.whl (12 kB)\n",
      "Downloading greenlet-3.0.3-cp311-cp311-win_amd64.whl (292 kB)\n",
      "   ---------------------------------------- 0.0/292.8 kB ? eta -:--:--\n",
      "   ---------------------------------------- 292.8/292.8 kB 9.1 MB/s eta 0:00:00\n",
      "Using cached marshmallow-3.20.1-py3-none-any.whl (49 kB)\n",
      "Using cached typing_inspect-0.9.0-py3-none-any.whl (8.8 kB)\n",
      "Installing collected packages: win32-setctime, tqdm, tenacity, regex, pydantic-core, numexpr, mypy-extensions, marshmallow, greenlet, dnspython, annotated-types, typing-inspect, tiktoken, SQLAlchemy, pydantic, loguru, pinecone-client, openai, langsmith, dataclasses-json, langchain\n",
      "Successfully installed SQLAlchemy-2.0.23 annotated-types-0.6.0 dataclasses-json-0.5.14 dnspython-2.4.2 greenlet-3.0.3 langchain-0.0.291 langsmith-0.0.75 loguru-0.7.2 marshmallow-3.20.1 mypy-extensions-1.0.0 numexpr-2.8.8 openai-0.28.0 pinecone-client-2.2.2 pydantic-2.5.3 pydantic-core-2.14.6 regex-2023.12.25 tenacity-8.2.3 tiktoken-0.5.1 tqdm-4.66.1 typing-inspect-0.9.0 win32-setctime-1.1.0\n"
     ]
    }
   ],
   "source": [
    "!pip install pinecone-client==2.2.2 openai==0.28.0 tiktoken==0.5.1 langchain==0.0.291"
   ]
  },
  {
   "cell_type": "code",
   "execution_count": 2,
   "id": "3907b5bf-c107-4236-b144-f4343614e40d",
   "metadata": {},
   "outputs": [
    {
     "name": "stdout",
     "output_type": "stream",
     "text": [
      "Collecting pandas\n",
      "  Using cached pandas-2.1.4-cp311-cp311-win_amd64.whl.metadata (18 kB)\n",
      "Requirement already satisfied: numpy<2,>=1.23.2 in c:\\users\\caotc\\.conda\\envs\\jupyterlab\\lib\\site-packages (from pandas) (1.26.2)\n",
      "Requirement already satisfied: python-dateutil>=2.8.2 in c:\\users\\caotc\\.conda\\envs\\jupyterlab\\lib\\site-packages (from pandas) (2.8.2)\n",
      "Requirement already satisfied: pytz>=2020.1 in c:\\users\\caotc\\.conda\\envs\\jupyterlab\\lib\\site-packages (from pandas) (2023.3.post1)\n",
      "Collecting tzdata>=2022.1 (from pandas)\n",
      "  Using cached tzdata-2023.3-py2.py3-none-any.whl (341 kB)\n",
      "Requirement already satisfied: six>=1.5 in c:\\users\\caotc\\.conda\\envs\\jupyterlab\\lib\\site-packages (from python-dateutil>=2.8.2->pandas) (1.16.0)\n",
      "Using cached pandas-2.1.4-cp311-cp311-win_amd64.whl (10.6 MB)\n",
      "Installing collected packages: tzdata, pandas\n",
      "Successfully installed pandas-2.1.4 tzdata-2023.3\n",
      "Note: you may need to restart the kernel to use updated packages.\n"
     ]
    }
   ],
   "source": [
    "pip install pandas"
   ]
  },
  {
   "cell_type": "code",
   "execution_count": 1,
   "id": "f96f08f8-b8fb-4a76-bf7a-b93163df00e1",
   "metadata": {},
   "outputs": [
    {
     "data": {
      "text/html": [
       "<div>\n",
       "<style scoped>\n",
       "    .dataframe tbody tr th:only-of-type {\n",
       "        vertical-align: middle;\n",
       "    }\n",
       "\n",
       "    .dataframe tbody tr th {\n",
       "        vertical-align: top;\n",
       "    }\n",
       "\n",
       "    .dataframe thead th {\n",
       "        text-align: right;\n",
       "    }\n",
       "</style>\n",
       "<table border=\"1\" class=\"dataframe\">\n",
       "  <thead>\n",
       "    <tr style=\"text-align: right;\">\n",
       "      <th></th>\n",
       "      <th>movie_title</th>\n",
       "      <th>movie_description</th>\n",
       "      <th>source</th>\n",
       "      <th>genres</th>\n",
       "    </tr>\n",
       "  </thead>\n",
       "  <tbody>\n",
       "    <tr>\n",
       "      <th>0</th>\n",
       "      <td>The Silence of the Lambs</td>\n",
       "      <td>Jodie Foster stars as Clarice Starling, a top ...</td>\n",
       "      <td>https://www.imdb.com/title/tt0102926</td>\n",
       "      <td>Crime,Drama,Thriller</td>\n",
       "    </tr>\n",
       "    <tr>\n",
       "      <th>1</th>\n",
       "      <td>Terminator 2: Judgment Day</td>\n",
       "      <td>In this sequel set eleven years after \"The Ter...</td>\n",
       "      <td>https://www.imdb.com/title/tt0103064</td>\n",
       "      <td>Action,Sci-Fi</td>\n",
       "    </tr>\n",
       "    <tr>\n",
       "      <th>2</th>\n",
       "      <td>The Lion King</td>\n",
       "      <td>This Disney animated feature follows the adven...</td>\n",
       "      <td>https://www.imdb.com/title/tt0110357</td>\n",
       "      <td>Adventure,Animation,Drama</td>\n",
       "    </tr>\n",
       "    <tr>\n",
       "      <th>3</th>\n",
       "      <td>Pulp Fiction</td>\n",
       "      <td>Vincent Vega (John Travolta) and Jules Winnfie...</td>\n",
       "      <td>https://www.imdb.com/title/tt0110912</td>\n",
       "      <td>Crime,Drama</td>\n",
       "    </tr>\n",
       "    <tr>\n",
       "      <th>4</th>\n",
       "      <td>The Shawshank Redemption</td>\n",
       "      <td>Andy Dufresne (Tim Robbins) is sentenced to tw...</td>\n",
       "      <td>https://www.imdb.com/title/tt0111161</td>\n",
       "      <td>Drama</td>\n",
       "    </tr>\n",
       "  </tbody>\n",
       "</table>\n",
       "</div>"
      ],
      "text/plain": [
       "                  movie_title  \\\n",
       "0    The Silence of the Lambs   \n",
       "1  Terminator 2: Judgment Day   \n",
       "2               The Lion King   \n",
       "3                Pulp Fiction   \n",
       "4    The Shawshank Redemption   \n",
       "\n",
       "                                   movie_description  \\\n",
       "0  Jodie Foster stars as Clarice Starling, a top ...   \n",
       "1  In this sequel set eleven years after \"The Ter...   \n",
       "2  This Disney animated feature follows the adven...   \n",
       "3  Vincent Vega (John Travolta) and Jules Winnfie...   \n",
       "4  Andy Dufresne (Tim Robbins) is sentenced to tw...   \n",
       "\n",
       "                                 source                     genres  \n",
       "0  https://www.imdb.com/title/tt0102926       Crime,Drama,Thriller  \n",
       "1  https://www.imdb.com/title/tt0103064              Action,Sci-Fi  \n",
       "2  https://www.imdb.com/title/tt0110357  Adventure,Animation,Drama  \n",
       "3  https://www.imdb.com/title/tt0110912                Crime,Drama  \n",
       "4  https://www.imdb.com/title/tt0111161                      Drama  "
      ]
     },
     "execution_count": 1,
     "metadata": {},
     "output_type": "execute_result"
    }
   ],
   "source": [
    "import pandas as pd\n",
    "\n",
    "movies = pd.read_csv(\"IMDB.csv\")\n",
    "movies  = movies.rename(columns={\"primaryTitle\": \"movie_title\",\n",
    "                                \"Description\": \"movie_description\"})\n",
    "movies[\"source\"] = \"https://www.imdb.com/title/\" + movies[\"tconst\"]\n",
    "movies = movies.loc[\n",
    "    movies[\"titleType\"] == \"movie\",\n",
    "    [\"movie_title\", \"movie_description\", \"source\", \"genres\"]\n",
    "]\n",
    "movies\n",
    "\n",
    "movies.head()"
   ]
  },
  {
   "cell_type": "code",
   "execution_count": 2,
   "id": "4f9ca9e2-ef94-4268-96da-5e65cbb41889",
   "metadata": {
    "scrolled": true
   },
   "outputs": [
    {
     "data": {
      "text/plain": [
       "[Document(page_content=\"Title: The Silence of the Lambs\\nGenre: Crime,Drama,Thriller\\nDescription: Jodie Foster stars as Clarice Starling, a top student at the FBI's training academy. Jack Crawford (Scott Glenn) wants Clarice to interview Dr. Hannibal Lecter (Anthony Hopkins), a brilliant psychiatrist who is also a violent psychopath, serving life behind bars for various acts of murder and cannibalism. Crawford believes that Lecter may have insight into a case and that Starling, as an attractive young woman, may be just the bait to draw him out.\", metadata={'source': 'https://www.imdb.com/title/tt0102926'}),\n",
       " Document(page_content='Title: Terminator 2: Judgment Day\\nGenre: Action,Sci-Fi\\nDescription: In this sequel set eleven years after \"The Terminator,\" young John Connor (Edward Furlong), the key to civilization\\'s victory over a future robot uprising, is the target of the shape-shifting T-1000 (Robert Patrick), a Terminator sent from the future to kill him. Another Terminator, the revamped T-800 (Arnold Schwarzenegger), has been sent back to protect the boy. As John and his mother (Linda Hamilton) go on the run with the T-800, the boy forms an unexpected bond with the robot.', metadata={'source': 'https://www.imdb.com/title/tt0103064'}),\n",
       " Document(page_content=\"Title: The Lion King\\nGenre: Adventure,Animation,Drama\\nDescription: This Disney animated feature follows the adventures of the young lion Simba (Jonathan Taylor Thomas), the heir of his father, Mufasa (James Earl Jones). Simba's wicked uncle, Scar (Jeremy Irons), plots to usurp Mufasa's throne by luring father and son into a stampede of wildebeests. But Simba escapes, and only Mufasa is killed. Simba returns as an adult (Matthew Broderick) to take back his homeland from Scar with the help of his friends Timon (Nathan Lane) and Pumbaa (Ernie Sabella).\", metadata={'source': 'https://www.imdb.com/title/tt0110357'})]"
      ]
     },
     "execution_count": 2,
     "metadata": {},
     "output_type": "execute_result"
    }
   ],
   "source": [
    "from langchain.document_loaders import DataFrameLoader \n",
    "\n",
    "movies [\"page_content\"] =  (\"Title: \" + movies[\"movie_title\"] + \"\\n\" + \\\n",
    "                           \"Genre: \" + movies[\"genres\"] + \"\\n\" + \\\n",
    "                           \"Description: \" + movies[\"movie_description\"])\n",
    "movies = movies[[\"page_content\", \"source\"]]\n",
    "\n",
    "docs = DataFrameLoader(movies, page_content_column=\"page_content\",).load()\n",
    "\n",
    "docs [:3]"
   ]
  },
  {
   "cell_type": "code",
   "execution_count": 7,
   "id": "9df583bd-1c37-4093-888d-e7d78179b96a",
   "metadata": {},
   "outputs": [
    {
     "data": {
      "text/plain": [
       "0.0374556"
      ]
     },
     "execution_count": 7,
     "metadata": {},
     "output_type": "execute_result"
    }
   ],
   "source": [
    "import tiktoken\n",
    "\n",
    "encoder = tiktoken.get_encoding(\"cl100k_base\")\n",
    "\n",
    "tokens_per_docs = [len(encoder.encode(doc.page_content)) for doc in docs]\n",
    "\n",
    "tokens_per_docs\n",
    "\n",
    "total_tokens = sum(tokens_per_docs)\n",
    "cost_per_1000_tokens = 0.0001\n",
    "cost = (total_tokens/1000) * cost_per_1000_tokens\n",
    "cost"
   ]
  },
  {
   "cell_type": "code",
   "execution_count": 8,
   "id": "4c711ddc-0c0d-43cd-b15d-42d8201ddd60",
   "metadata": {},
   "outputs": [
    {
     "name": "stderr",
     "output_type": "stream",
     "text": [
      "C:\\Users\\caotc\\.conda\\envs\\jupyterlab\\Lib\\site-packages\\pinecone\\index.py:4: TqdmWarning: IProgress not found. Please update jupyter and ipywidgets. See https://ipywidgets.readthedocs.io/en/stable/user_install.html\n",
      "  from tqdm.autonotebook import tqdm\n"
     ]
    },
    {
     "ename": "TypeError",
     "evalue": "'_Environ' object is not callable",
     "output_type": "error",
     "traceback": [
      "\u001b[1;31m---------------------------------------------------------------------------\u001b[0m",
      "\u001b[1;31mTypeError\u001b[0m                                 Traceback (most recent call last)",
      "Cell \u001b[1;32mIn[8], line 5\u001b[0m\n\u001b[0;32m      1\u001b[0m \u001b[38;5;28;01mimport\u001b[39;00m \u001b[38;5;21;01mos\u001b[39;00m\n\u001b[0;32m      2\u001b[0m \u001b[38;5;28;01mimport\u001b[39;00m \u001b[38;5;21;01mpinecone\u001b[39;00m\n\u001b[0;32m      4\u001b[0m pinecone\u001b[38;5;241m.\u001b[39minit(\n\u001b[1;32m----> 5\u001b[0m     api_key\u001b[38;5;241m=\u001b[39mos\u001b[38;5;241m.\u001b[39menviron(\u001b[38;5;124m\"\u001b[39m\u001b[38;5;124mPINECONE_API_KEY\u001b[39m\u001b[38;5;124m\"\u001b[39m),\n\u001b[0;32m      6\u001b[0m     enviroment \u001b[38;5;241m=\u001b[39m \u001b[38;5;124m\"\u001b[39m\u001b[38;5;124mgcp-starter\u001b[39m\u001b[38;5;124m\"\u001b[39m,\n\u001b[0;32m      7\u001b[0m )\n\u001b[0;32m      9\u001b[0m \u001b[38;5;28mprint\u001b[39m(pinecone\u001b[38;5;241m.\u001b[39mlist_indexes())\n\u001b[0;32m     11\u001b[0m index_name \u001b[38;5;241m=\u001b[39m \u001b[38;5;124m\"\u001b[39m\u001b[38;5;124mimdb-movies\u001b[39m\u001b[38;5;124m\"\u001b[39m\n",
      "\u001b[1;31mTypeError\u001b[0m: '_Environ' object is not callable"
     ]
    }
   ],
   "source": [
    "import os\n",
    "import pinecone\n",
    "\n",
    "pinecone.init(\n",
    "    api_key= os.environ(\"PINECONE_API_KEY\")\n",
    "    environment = \"gcp-starter\",\n",
    ")\n",
    "\n",
    "print(pinecone.list_indexes())\n",
    "\n",
    "index_name = \"imdb-movies\"\n",
    "\n",
    "# First check that the given index does not exist yet\n",
    "if index_name not in pinecone.list_indexes():\n",
    "    # Create the 'imbd-movies' index if it does not exist\n",
    "    pinecone.create_index(\n",
    "        name = index_name,\n",
    "        distance = \"cosine\",\n",
    "        dimensions = 1536,\n",
    "    )"
   ]
  },
  {
   "cell_type": "code",
   "execution_count": null,
   "id": "7300a3b1-ecbf-462c-a6aa-105453d0fed3",
   "metadata": {},
   "outputs": [],
   "source": []
  }
 ],
 "metadata": {
  "kernelspec": {
   "display_name": "Python 3 (ipykernel)",
   "language": "python",
   "name": "python3"
  },
  "language_info": {
   "codemirror_mode": {
    "name": "ipython",
    "version": 3
   },
   "file_extension": ".py",
   "mimetype": "text/x-python",
   "name": "python",
   "nbconvert_exporter": "python",
   "pygments_lexer": "ipython3",
   "version": "3.11.5"
  }
 },
 "nbformat": 4,
 "nbformat_minor": 5
}
